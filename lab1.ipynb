{
 "cells": [
  {
   "cell_type": "code",
   "execution_count": 33,
   "metadata": {},
   "outputs": [
    {
     "name": "stdout",
     "output_type": "stream",
     "text": [
      "the prime numbers between 2 and 20 are\n",
      "2\n",
      "3\n",
      "5\n",
      "7\n",
      "11\n",
      "13\n",
      "17\n",
      "19\n"
     ]
    }
   ],
   "source": [
    "#Write a program to find prime number with in a range using function.\n",
    "a=int(input(\"enter lower range\"))\n",
    "b=int(input(\"enter upper range\"))\n",
    "print(\"the prime numbers between\",a,\"and\",b,\"are\")\n",
    "for i in range(a,b):\n",
    "  count=0\n",
    "  for j in range(1,i+1): \n",
    "    if i%j==0:\n",
    "      count=count+1\n",
    "  if count==2:\n",
    "    \n",
    "    print(i)\n",
    "    "
   ]
  },
  {
   "cell_type": "code",
   "execution_count": 32,
   "metadata": {},
   "outputs": [
    {
     "name": "stdout",
     "output_type": "stream",
     "text": [
      "111 is palindrome\n"
     ]
    }
   ],
   "source": [
    "#Write a program to check palindrome.\n",
    "a=int(input(\"enter any number\"))\n",
    "rev=0\n",
    "num=a\n",
    "while num > 0:\n",
    " n=num%10\n",
    " rev=rev*10+n\n",
    " num=num//10\n",
    "if rev==a:\n",
    " print(a, \"is palindrome\")\n",
    "else:\n",
    " print(a, \"is not palindrome\")"
   ]
  },
  {
   "cell_type": "code",
   "execution_count": 39,
   "metadata": {},
   "outputs": [
    {
     "name": "stdout",
     "output_type": "stream",
     "text": [
      "fibonacci series upto 10 th number are\n",
      "0\n",
      "1\n",
      "1\n",
      "2\n",
      "3\n",
      "5\n",
      "8\n",
      "13\n",
      "21\n",
      "34\n"
     ]
    }
   ],
   "source": [
    "#Write a program to generate the Fibonacci sequence of a given number.\n",
    "a=int(input(\"enter any number\"))\n",
    "b=0\n",
    "c=1\n",
    "print(\"fibonacci series upto\",a,\"th number are\")\n",
    "for i in range(1,a+1):\n",
    "    print(b)\n",
    "    x=b\n",
    "    b=c\n",
    "    c=c+x"
   ]
  },
  {
   "cell_type": "code",
   "execution_count": 7,
   "metadata": {},
   "outputs": [
    {
     "name": "stdout",
     "output_type": "stream",
     "text": [
      "guess the number\n",
      "try again the number is smaller than 55\n",
      "guess the number\n",
      "try again the number is smaller than 45\n",
      "guess the number\n",
      "try again the number is greater than 35\n",
      "guess the number\n",
      "try again the number is smaller than 40\n",
      "guess the number\n",
      "try again the number is smaller than 39\n",
      "guess the number\n",
      "try again the number is greater than 36\n",
      "guess the number\n",
      "correct guess\n"
     ]
    }
   ],
   "source": [
    "#number guessing game\n",
    "import random\n",
    "a=random.randrange(1,100)\n",
    "while True:\n",
    "     print(\"guess the number\")\n",
    "     b=int(input())\n",
    "     if b<a:\n",
    "      print(\"try again the number is greater than\",b)\n",
    "     elif b>a:\n",
    "      print(\"try again the number is smaller than\",b)\n",
    "     else:\n",
    "      print(\"correct guess\")\n",
    "      break"
   ]
  }
 ],
 "metadata": {
  "kernelspec": {
   "display_name": "Python 3",
   "language": "python",
   "name": "python3"
  },
  "language_info": {
   "codemirror_mode": {
    "name": "ipython",
    "version": 3
   },
   "file_extension": ".py",
   "mimetype": "text/x-python",
   "name": "python",
   "nbconvert_exporter": "python",
   "pygments_lexer": "ipython3",
   "version": "3.11.0"
  }
 },
 "nbformat": 4,
 "nbformat_minor": 2
}
